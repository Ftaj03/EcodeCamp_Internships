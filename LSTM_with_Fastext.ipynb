{
  "nbformat": 4,
  "nbformat_minor": 0,
  "metadata": {
    "colab": {
      "provenance": [],
      "gpuType": "T4",
      "mount_file_id": "1_xcpQ9oN3KbydYGplS9G8mNIX0cnR-36",
      "authorship_tag": "ABX9TyMyQUQAIlqF3PeiZ9+AtbCY",
      "include_colab_link": true
    },
    "kernelspec": {
      "name": "python3",
      "display_name": "Python 3"
    },
    "language_info": {
      "name": "python"
    },
    "accelerator": "GPU"
  },
  "cells": [
    {
      "cell_type": "markdown",
      "metadata": {
        "id": "view-in-github",
        "colab_type": "text"
      },
      "source": [
        "<a href=\"https://colab.research.google.com/github/Ftaj03/FYP-Sentiment-analysis/blob/main/LSTM_with_Fastext.ipynb\" target=\"_parent\"><img src=\"https://colab.research.google.com/assets/colab-badge.svg\" alt=\"Open In Colab\"/></a>"
      ]
    },
    {
      "cell_type": "markdown",
      "source": [
        "Import Libraries"
      ],
      "metadata": {
        "id": "sYSjFTrLaXey"
      }
    },
    {
      "cell_type": "code",
      "source": [
        "import numpy as np\n",
        "import pandas as pd\n",
        "import tensorflow as tf\n",
        "from tensorflow.keras.preprocessing.text import Tokenizer\n",
        "from tensorflow.keras.preprocessing.sequence import pad_sequences\n",
        "from tensorflow.keras.models import Sequential\n",
        "from tensorflow.keras.layers import Embedding, LSTM, Dense, Dropout\n",
        "from sklearn.model_selection import train_test_split\n",
        "from sklearn.preprocessing import LabelEncoder\n",
        "from tensorflow.keras.callbacks import EarlyStopping, ReduceLROnPlateau"
      ],
      "metadata": {
        "id": "o1VTXU3maEfu"
      },
      "execution_count": null,
      "outputs": []
    },
    {
      "cell_type": "markdown",
      "source": [
        "Load DataSet"
      ],
      "metadata": {
        "id": "ekRMz_KNagN0"
      }
    },
    {
      "cell_type": "code",
      "source": [
        "df = pd.read_csv('/content/drive/MyDrive/Colab Notebooks/twitter sentiment analysis.csv')\n",
        "label_encoder = LabelEncoder()\n",
        "df['Label'] = label_encoder.fit_transform(df['Label'])"
      ],
      "metadata": {
        "id": "5Fx7LXy8a15J"
      },
      "execution_count": null,
      "outputs": []
    },
    {
      "cell_type": "markdown",
      "source": [
        "Preprocess Data"
      ],
      "metadata": {
        "id": "MrbOECORa-uW"
      }
    },
    {
      "cell_type": "code",
      "source": [
        "import re\n",
        "def clean_text(text):\n",
        "    text = re.sub(r'http\\S+', '', text)  # Remove URLs\n",
        "    text = re.sub(r'[^a-zA-Z\\s]', '', text)  # Remove special characters\n",
        "    text = text.lower()  # Convert to lowercase\n",
        "    return text\n",
        "df['Text'] = df['Text'].apply(clean_text)"
      ],
      "metadata": {
        "id": "KFR7JyBVbGx6"
      },
      "execution_count": null,
      "outputs": []
    },
    {
      "cell_type": "markdown",
      "source": [
        "Split Dataset Into Training Set and Test Set"
      ],
      "metadata": {
        "id": "cFH4ERPgcNud"
      }
    },
    {
      "cell_type": "code",
      "source": [
        "# Split the data into training and testing sets\n",
        "X_train, X_test, y_train, y_test = train_test_split(df['Text'], df['Label'], test_size=0.2, random_state=42)\n"
      ],
      "metadata": {
        "id": "EZFufWi5cma0"
      },
      "execution_count": null,
      "outputs": []
    },
    {
      "cell_type": "markdown",
      "source": [
        "Tokenize Text"
      ],
      "metadata": {
        "id": "UrGKcUJdc2Ug"
      }
    },
    {
      "cell_type": "code",
      "source": [
        "# Tokenize the text data\n",
        "tokenizer = Tokenizer()\n",
        "tokenizer.fit_on_texts(X_train)\n",
        "\n",
        "X_train_sequences = tokenizer.texts_to_sequences(X_train)\n",
        "X_test_sequences = tokenizer.texts_to_sequences(X_test)\n",
        "\n",
        "# Pad sequences to ensure uniform input size\n",
        "max_sequence_length = 50\n",
        "X_train_padded = pad_sequences(X_train_sequences, maxlen=max_sequence_length, padding='post')\n",
        "X_test_padded = pad_sequences(X_test_sequences, maxlen=max_sequence_length, padding='post')\n"
      ],
      "metadata": {
        "id": "DYysPnxcc9-O"
      },
      "execution_count": null,
      "outputs": []
    },
    {
      "cell_type": "markdown",
      "source": [
        "Load Fastext Embedding"
      ],
      "metadata": {
        "id": "MadyrmUmdC00"
      }
    },
    {
      "cell_type": "code",
      "source": [
        "def load_fasttext_embeddings(file_path):\n",
        "    embeddings_index = {}\n",
        "    with open(file_path, 'r', encoding='utf-8') as f:\n",
        "        for line in f:\n",
        "            values = line.split()\n",
        "            word = values[0]\n",
        "            coefs = np.asarray(values[1:], dtype='float32')\n",
        "            embeddings_index[word] = coefs\n",
        "    return embeddings_index\n",
        "\n",
        "fasttext_path = '/content/drive/MyDrive/Colab Notebooks/crawl-300d-2M-subword.vec'\n",
        "embeddings_index = load_fasttext_embeddings(fasttext_path)"
      ],
      "metadata": {
        "id": "_83z-HCpgJPX"
      },
      "execution_count": null,
      "outputs": []
    },
    {
      "cell_type": "markdown",
      "source": [
        "Create Embedding Matrix"
      ],
      "metadata": {
        "id": "NJ6si_DvhA7i"
      }
    },
    {
      "cell_type": "code",
      "source": [
        "# Create an embedding matrix\n",
        "embedding_dim = 300\n",
        "vocab_size = len(tokenizer.word_index) + 1\n",
        "embedding_matrix = np.zeros((vocab_size, embedding_dim))\n",
        "\n",
        "for word, i in tokenizer.word_index.items():\n",
        "    embedding_vector = embeddings_index.get(word)\n",
        "    if embedding_vector is not None:\n",
        "        embedding_matrix[i] = embedding_vector"
      ],
      "metadata": {
        "id": "feo05dxMhH2l"
      },
      "execution_count": null,
      "outputs": []
    },
    {
      "cell_type": "markdown",
      "source": [
        "Build LSTM Model"
      ],
      "metadata": {
        "id": "a0M5PFXgh2_C"
      }
    },
    {
      "cell_type": "code",
      "source": [
        "# Build the LSTM model\n",
        "model = Sequential([\n",
        "    Embedding(input_dim=vocab_size, output_dim=embedding_dim, weights=[embedding_matrix], input_length=max_sequence_length, trainable=True),\n",
        "    LSTM(128, dropout=0.2, recurrent_dropout=0.2),\n",
        "    Dense(64, activation='relu'),\n",
        "    Dropout(0.5),\n",
        "    Dense(3, activation='softmax')  # 3 classes: positive, negative, neutral\n",
        "])\n",
        "\n",
        "model.compile(optimizer='adam', loss='sparse_categorical_crossentropy', metrics=['accuracy'])\n"
      ],
      "metadata": {
        "colab": {
          "base_uri": "https://localhost:8080/"
        },
        "id": "GRx2cwnOh893",
        "outputId": "0b139623-9b06-4d60-f68a-b6c6e0deebb0"
      },
      "execution_count": null,
      "outputs": [
        {
          "output_type": "stream",
          "name": "stderr",
          "text": [
            "/usr/local/lib/python3.11/dist-packages/keras/src/layers/core/embedding.py:90: UserWarning: Argument `input_length` is deprecated. Just remove it.\n",
            "  warnings.warn(\n"
          ]
        }
      ]
    },
    {
      "cell_type": "code",
      "source": [
        "# Hyperparameters\n",
        "batch_size = 128  # Start with 64, experiment with 32 or 128\n",
        "epochs = 5  # Start with 20, use early stopping to avoid overfitting\n",
        "callbacks = [\n",
        "    EarlyStopping(patience=3, restore_best_weights=True),  # Stop if no improvement for 3 epochs\n",
        "    ReduceLROnPlateau(factor=0.1, patience=2)  # Reduce learning rate if no improvement for 2 epochs\n",
        "]\n",
        "# Train the model with callbacks\n",
        "history = model.fit(\n",
        "    X_train_padded, y_train,\n",
        "    batch_size=batch_size,\n",
        "    epochs=epochs,\n",
        "    validation_data=(X_test_padded, y_test),\n",
        "    callbacks=callbacks\n",
        ")\n",
        "# Evaluate the model\n",
        "loss, accuracy = model.evaluate(X_test_padded, y_test)\n",
        "print(f'Test Accuracy: {accuracy:.4f}')\n",
        "\n",
        "# Save Model\n",
        "model.save(\"lstm_fasttext_sentiment.h5\")\n",
        "\n",
        "print(\"Training Complete & Model Saved!\")\n"
      ],
      "metadata": {
        "id": "UCxitZxUhVl0",
        "colab": {
          "base_uri": "https://localhost:8080/"
        },
        "outputId": "ef5aef97-33c0-4cd3-8d85-543ac3103d09"
      },
      "execution_count": null,
      "outputs": [
        {
          "output_type": "stream",
          "name": "stdout",
          "text": [
            "Epoch 1/5\n",
            "\u001b[1m1073/1073\u001b[0m \u001b[32m━━━━━━━━━━━━━━━━━━━━\u001b[0m\u001b[37m\u001b[0m \u001b[1m240s\u001b[0m 224ms/step - accuracy: 0.3547 - loss: nan - val_accuracy: 0.3543 - val_loss: nan - learning_rate: 1.0000e-05\n",
            "Epoch 2/5\n",
            "\u001b[1m1073/1073\u001b[0m \u001b[32m━━━━━━━━━━━━━━━━━━━━\u001b[0m\u001b[37m\u001b[0m \u001b[1m256s\u001b[0m 218ms/step - accuracy: 0.3534 - loss: nan - val_accuracy: 0.3543 - val_loss: nan - learning_rate: 1.0000e-05\n",
            "Epoch 3/5\n",
            "\u001b[1m1073/1073\u001b[0m \u001b[32m━━━━━━━━━━━━━━━━━━━━\u001b[0m\u001b[37m\u001b[0m \u001b[1m236s\u001b[0m 220ms/step - accuracy: 0.3510 - loss: nan - val_accuracy: 0.3543 - val_loss: nan - learning_rate: 1.0000e-06\n",
            "Epoch 4/5\n",
            "\u001b[1m1073/1073\u001b[0m \u001b[32m━━━━━━━━━━━━━━━━━━━━\u001b[0m\u001b[37m\u001b[0m \u001b[1m263s\u001b[0m 220ms/step - accuracy: 0.3548 - loss: nan - val_accuracy: 0.3543 - val_loss: nan - learning_rate: 1.0000e-06\n",
            "\u001b[1m1073/1073\u001b[0m \u001b[32m━━━━━━━━━━━━━━━━━━━━\u001b[0m\u001b[37m\u001b[0m \u001b[1m35s\u001b[0m 32ms/step - accuracy: 0.3533 - loss: nan\n"
          ]
        },
        {
          "output_type": "stream",
          "name": "stderr",
          "text": [
            "WARNING:absl:You are saving your model as an HDF5 file via `model.save()` or `keras.saving.save_model(model)`. This file format is considered legacy. We recommend using instead the native Keras format, e.g. `model.save('my_model.keras')` or `keras.saving.save_model(model, 'my_model.keras')`. \n"
          ]
        },
        {
          "output_type": "stream",
          "name": "stdout",
          "text": [
            "Test Accuracy: 0.3543\n",
            "Training Complete & Model Saved!\n"
          ]
        }
      ]
    },
    {
      "cell_type": "code",
      "source": [
        "def predict_sentiment(text, tokenizer, model, max_length=100):\n",
        "  seq = tokenizer.texts_to_sequences([text])\n",
        "  padded = pad_sequences(seq, maxlen=max_length, padding='post')\n",
        "  pred = model.predict(padded)\n",
        "  labels = [\"negative\", \"positive\", \"neutral\"]\n",
        "  return labels[np.argmax(pred)]\n",
        "\n",
        "# Example Predictions\n",
        "print(predict_sentiment(\"I hate this movie!\", tokenizer, model))\n",
        "print(predict_sentiment(\"This is the worst experience ever.\", tokenizer, model))\n",
        "print(predict_sentiment(\"The product is special.\", tokenizer, model))"
      ],
      "metadata": {
        "colab": {
          "base_uri": "https://localhost:8080/"
        },
        "id": "2FGdIkqtE9FD",
        "outputId": "2417377c-3a01-4d25-b176-b0dabaaa376a"
      },
      "execution_count": null,
      "outputs": [
        {
          "output_type": "stream",
          "name": "stdout",
          "text": [
            "\u001b[1m1/1\u001b[0m \u001b[32m━━━━━━━━━━━━━━━━━━━━\u001b[0m\u001b[37m\u001b[0m \u001b[1m0s\u001b[0m 84ms/step\n",
            "negative\n",
            "\u001b[1m1/1\u001b[0m \u001b[32m━━━━━━━━━━━━━━━━━━━━\u001b[0m\u001b[37m\u001b[0m \u001b[1m0s\u001b[0m 82ms/step\n",
            "negative\n",
            "\u001b[1m1/1\u001b[0m \u001b[32m━━━━━━━━━━━━━━━━━━━━\u001b[0m\u001b[37m\u001b[0m \u001b[1m0s\u001b[0m 80ms/step\n",
            "negative\n"
          ]
        }
      ]
    },
    {
      "cell_type": "code",
      "source": [],
      "metadata": {
        "id": "nBrI3Yf5eAb1"
      },
      "execution_count": null,
      "outputs": []
    }
  ]
}